{
 "cells": [
  {
   "cell_type": "markdown",
   "id": "835bdd48",
   "metadata": {},
   "source": [
    "### *01_First_prog*"
   ]
  },
  {
   "cell_type": "code",
   "execution_count": 1,
   "id": "b3a6bdea",
   "metadata": {},
   "outputs": [
    {
     "name": "stdout",
     "output_type": "stream",
     "text": [
      "4\n",
      "Learning Python :P\n"
     ]
    }
   ],
   "source": [
    "print(2+2)\n",
    "print(\"Learning Python :P\")"
   ]
  },
  {
   "cell_type": "markdown",
   "id": "ca139361",
   "metadata": {},
   "source": [
    "### *02_Operators*"
   ]
  },
  {
   "cell_type": "code",
   "execution_count": 2,
   "id": "58d08c04",
   "metadata": {},
   "outputs": [
    {
     "name": "stdout",
     "output_type": "stream",
     "text": [
      "4\n",
      "1\n",
      "27\n",
      "10.88888888888889\n",
      "10\n"
     ]
    }
   ],
   "source": [
    "print(2+2)\n",
    "print(5-4)\n",
    "print(3*9)\n",
    "print(98/9)\n",
    "print(98//9)"
   ]
  },
  {
   "cell_type": "markdown",
   "id": "1c69b0e2",
   "metadata": {},
   "source": [
    "### *03_Strings*"
   ]
  },
  {
   "cell_type": "code",
   "execution_count": 3,
   "id": "4510b2b3",
   "metadata": {},
   "outputs": [
    {
     "name": "stdout",
     "output_type": "stream",
     "text": [
      "Hello World!\n",
      "I'm your coder\n",
      "How are you?\n"
     ]
    }
   ],
   "source": [
    "print(\"Hello World!\")\n",
    "print(\"I'm your coder\")\n",
    "print('How are you?')\n",
    "#print('I'm your coder') error"
   ]
  },
  {
   "cell_type": "markdown",
   "id": "bb8e4401",
   "metadata": {},
   "source": [
    "### *04_Comments*"
   ]
  },
  {
   "cell_type": "code",
   "execution_count": 4,
   "id": "09c4c73b",
   "metadata": {
    "scrolled": true
   },
   "outputs": [
    {
     "name": "stdout",
     "output_type": "stream",
     "text": [
      "Lets move on to variables\n"
     ]
    }
   ],
   "source": [
    "#print(\"How are you?\")\n",
    "#print(\"print 2+1\", 2+1)\n",
    "print(\"Lets move on to variables\")"
   ]
  },
  {
   "cell_type": "markdown",
   "id": "25a22613",
   "metadata": {},
   "source": [
    "### *05_Variables*"
   ]
  },
  {
   "cell_type": "code",
   "execution_count": 5,
   "id": "af0cc3eb",
   "metadata": {},
   "outputs": [
    {
     "name": "stdout",
     "output_type": "stream",
     "text": [
      "8\n",
      "you are an alluring disaster\n",
      "10\n",
      "<class 'int'>\n",
      "<class 'str'>\n",
      "<class 'str'>\n",
      "Mangoes\n"
     ]
    }
   ],
   "source": [
    "#Variables: objects containing values\n",
    "x=8\n",
    "print(x)\n",
    "y=\"you are an alluring disaster\"\n",
    "print(y)\n",
    "x= x+2\n",
    "print(x)\n",
    "\n",
    "#Types/class of variables\n",
    "type(x)\n",
    "print (type(x))\n",
    "print(type(y))\n",
    "\n",
    "#Rules to Assign Variables\n",
    "#The variable should contain letters, numbers and underscore\n",
    "#Do not start with numbers\n",
    "#Spaces are not allowed\n",
    "#Do not use keywords used in functions(break, mean, test, etc)\n",
    "#Short and descriptive\n",
    "#Case Senstivity (lowercase, uppercase leters can be used)\n",
    "\n",
    "#fru1=8\n",
    "fru1=\"Mangoes\"\n",
    "print(type(fru1))\n",
    "print(fru1)"
   ]
  },
  {
   "cell_type": "markdown",
   "id": "b17eeccf",
   "metadata": {},
   "source": [
    "### *06_Input_Variables*"
   ]
  },
  {
   "cell_type": "code",
   "execution_count": 6,
   "id": "fef22100",
   "metadata": {},
   "outputs": [
    {
     "name": "stdout",
     "output_type": "stream",
     "text": [
      "What is your name?  adan\n",
      "How old are you?  4\n",
      "hello! adan, You're still young.\n"
     ]
    }
   ],
   "source": [
    "# fru1=\"Mangoes\"\n",
    "# print(fru1)\n",
    "\n",
    "# # Input variable simple\n",
    "# fru1=input(\"What is your favorite fruit?    \")\n",
    "# print(fru1)\n",
    "\n",
    "# # Input variable 2nd stage\n",
    "# name=input(\"What is your name?  \")\n",
    "# print(\"hello!\", name)\n",
    "\n",
    "# Input variable 3rd stage\n",
    "name=input(\"What is your name?  \")\n",
    "age=input(\"How old are you?  \")\n",
    "print(\"hello!\",name+\", You're still young.\")"
   ]
  },
  {
   "cell_type": "markdown",
   "id": "6b3f1f85",
   "metadata": {},
   "source": [
    "### *07_Conditional_Logics*"
   ]
  },
  {
   "cell_type": "code",
   "execution_count": 7,
   "id": "d7ea7ab1",
   "metadata": {},
   "outputs": [
    {
     "name": "stdout",
     "output_type": "stream",
     "text": [
      "What old are you?  4\n",
      "<class 'int'>\n",
      "False\n"
     ]
    }
   ],
   "source": [
    "#logical operations are either true or false\n",
    "#equal to               ==\n",
    "#less then              <\n",
    "#greater then           >\n",
    "#less then equal to     <=\n",
    "#greater then equal to  >=\n",
    "\n",
    "# print(4==4)\n",
    "# print(5>9)\n",
    "# print(5>=2)\n",
    "# print(2<4)\n",
    "\n",
    "#application of logical operator\n",
    "x=input(\"What old are you?  \" )\n",
    "age_at_sch=5\n",
    "x=int(x)\n",
    "print(type(x))\n",
    "print(x==age_at_sch)"
   ]
  },
  {
   "cell_type": "markdown",
   "id": "28d9b0f5",
   "metadata": {},
   "source": [
    "### *08_Type_Conversion*"
   ]
  },
  {
   "cell_type": "code",
   "execution_count": 8,
   "id": "6f98d807",
   "metadata": {},
   "outputs": [
    {
     "name": "stdout",
     "output_type": "stream",
     "text": [
      "What is your name?    adan\n",
      "adan <class 'str'>\n",
      "What is your age?    4\n",
      "4 <class 'float'>\n"
     ]
    }
   ],
   "source": [
    "# x=10\n",
    "# y=12.2\n",
    "# z=\"Hello!\"\n",
    "\n",
    "# #Implicit type conversion\n",
    "# x=x+y\n",
    "# print(x, \"Type of x is: \", type(x))\n",
    "\n",
    "#Explicit type conversion\n",
    "name=input(\"What is your name?    \")\n",
    "print(name, type(str(name)))\n",
    "age=input(\"What is your age?    \")\n",
    "print(age, type(float(age)))"
   ]
  },
  {
   "cell_type": "markdown",
   "id": "2f05461d",
   "metadata": {},
   "source": [
    "### *09_If_elif_else*"
   ]
  },
  {
   "cell_type": "code",
   "execution_count": 9,
   "id": "e8a0aa46",
   "metadata": {},
   "outputs": [
    {
     "name": "stdout",
     "output_type": "stream",
     "text": [
      "What is your age?: 4\n",
      "You cannot join school\n"
     ]
    }
   ],
   "source": [
    "faham_age=input(\"What is your age?: \")\n",
    "req_age_at_sch=5\n",
    "faham_age=int(faham_age)\n",
    "\n",
    "if faham_age==req_age_at_sch:\n",
    "    print(\"You are eligible to join school\")\n",
    "elif faham_age > req_age_at_sch:\n",
    "    print(\"You should join Higher Secondary\")\n",
    "elif faham_age <= 2:\n",
    "    print(\"you should take care of yourself\")\n",
    "else: \n",
    "    print(\"You cannot join school\")"
   ]
  },
  {
   "cell_type": "markdown",
   "id": "f43c3cd3",
   "metadata": {},
   "source": [
    "### *10_Functions*"
   ]
  },
  {
   "cell_type": "code",
   "execution_count": 10,
   "id": "fa9571ed",
   "metadata": {},
   "outputs": [
    {
     "name": "stdout",
     "output_type": "stream",
     "text": [
      "what is your age?    4\n",
      "You can not join school\n"
     ]
    }
   ],
   "source": [
    "#defining a function\n",
    "# #   1\n",
    "# def print_input():\n",
    "#     print(\"I'm a Superstarx2\")\n",
    "# print_input()\n",
    "# #   2\n",
    "# def print_input1():\n",
    "#     text=\"I'm a Superstar\"\n",
    "#     print(text)\n",
    "#     print(text)\n",
    "#     print(text)\n",
    "# print_input1()\n",
    "\n",
    "def school_calc():\n",
    "    age=input(\"what is your age?    \")\n",
    "    req_age=5\n",
    "    age=int(age)\n",
    "    if age==req_age:\n",
    "        print(\"You can join the school\")\n",
    "    elif age>req_age:\n",
    "        print(\"You're not fit for the school, try high school\")\n",
    "    elif age<=2:\n",
    "        print(\"you're to young to be at school\")\n",
    "    else:\n",
    "        print(\"You can not join school\")\n",
    "school_calc()"
   ]
  },
  {
   "cell_type": "markdown",
   "id": "419298bc",
   "metadata": {},
   "source": [
    "### *11_Loops*"
   ]
  },
  {
   "cell_type": "code",
   "execution_count": 11,
   "id": "e9b53d5c",
   "metadata": {
    "scrolled": true
   },
   "outputs": [
    {
     "name": "stdout",
     "output_type": "stream",
     "text": [
      "Mon\n",
      "Tue\n",
      "Wed\n",
      "Thu\n",
      "Sat\n",
      "Sun\n"
     ]
    }
   ],
   "source": [
    "#Two types of Loops: While & For loops\n",
    "#while loop\n",
    "# x=0\n",
    "# while (x<=5):\n",
    "#     print(x)\n",
    "#     x=x+1\n",
    "#for loop\n",
    "# for x in range(4,10):\n",
    "#     print(x)\n",
    "#arrays\n",
    "days=[\"Mon\",\"Tue\",\"Wed\",\"Thu\",\"Fri\",\"Sat\",\"Sun\"]\n",
    "for d in days:\n",
    "    # if(d==\"Fri\"):break #loop stop\n",
    "    if(d==\"Fri\"):continue #Skips d\n",
    "    print(d)"
   ]
  },
  {
   "cell_type": "markdown",
   "id": "72aee789",
   "metadata": {},
   "source": [
    "### *12_Input_Libraries*"
   ]
  },
  {
   "cell_type": "code",
   "execution_count": 12,
   "id": "68ead037",
   "metadata": {},
   "outputs": [
    {
     "name": "stdout",
     "output_type": "stream",
     "text": [
      "value of pi:  3.141592653589793\n",
      "200\n"
     ]
    }
   ],
   "source": [
    "import math\n",
    "print(\"value of pi: \", math.pi)\n",
    "import statistics\n",
    "x=[130,140,290,340,130,170]\n",
    "print(statistics.mean(x))"
   ]
  },
  {
   "cell_type": "markdown",
   "id": "8a31f58e",
   "metadata": {},
   "source": [
    "### *13_Trouble_Shooting*"
   ]
  },
  {
   "cell_type": "code",
   "execution_count": 13,
   "id": "284f29f7",
   "metadata": {},
   "outputs": [
    {
     "name": "stdout",
     "output_type": "stream",
     "text": [
      "HelloAdan\n"
     ]
    }
   ],
   "source": [
    "#print(Hi this is your captain speaking) #Syntax Error\n",
    "#print(25/0)\n",
    "name=\"Adan\"\n",
    "print(\"Hello\"+ name) #Sementic error"
   ]
  },
  {
   "cell_type": "code",
   "execution_count": null,
   "id": "b44dd2a8",
   "metadata": {},
   "outputs": [],
   "source": []
  },
  {
   "cell_type": "code",
   "execution_count": null,
   "id": "a4a5fd7c",
   "metadata": {},
   "outputs": [],
   "source": []
  }
 ],
 "metadata": {
  "kernelspec": {
   "display_name": "Python 3 (ipykernel)",
   "language": "python",
   "name": "python3"
  },
  "language_info": {
   "codemirror_mode": {
    "name": "ipython",
    "version": 3
   },
   "file_extension": ".py",
   "mimetype": "text/x-python",
   "name": "python",
   "nbconvert_exporter": "python",
   "pygments_lexer": "ipython3",
   "version": "3.9.12"
  }
 },
 "nbformat": 4,
 "nbformat_minor": 5
}
